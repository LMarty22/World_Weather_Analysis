{
 "cells": [
  {
   "cell_type": "code",
   "execution_count": 1,
   "id": "c74c9bf6",
   "metadata": {},
   "outputs": [],
   "source": [
    "#Import the random module. \n",
    "import random"
   ]
  },
  {
   "cell_type": "code",
   "execution_count": 2,
   "id": "838b0969",
   "metadata": {},
   "outputs": [
    {
     "data": {
      "text/plain": [
       "29"
      ]
     },
     "execution_count": 2,
     "metadata": {},
     "output_type": "execute_result"
    }
   ],
   "source": [
    "random.randint(-90, 90)"
   ]
  },
  {
   "cell_type": "code",
   "execution_count": 3,
   "id": "b066d783",
   "metadata": {},
   "outputs": [
    {
     "data": {
      "text/plain": [
       "0.2305658512847909"
      ]
     },
     "execution_count": 3,
     "metadata": {},
     "output_type": "execute_result"
    }
   ],
   "source": [
    "random.random()"
   ]
  },
  {
   "cell_type": "code",
   "execution_count": 5,
   "id": "b9877040",
   "metadata": {},
   "outputs": [],
   "source": [
    "x = 1\n",
    "latitudes = []\n",
    "while x < 11:\n",
    "    random_lat = random.randint(-90, 89) + random.random()\n",
    "    latitudes.append(random_lat)\n",
    "    x += 1"
   ]
  },
  {
   "cell_type": "code",
   "execution_count": 6,
   "id": "da465b1b",
   "metadata": {},
   "outputs": [
    {
     "data": {
      "text/plain": [
       "[43.81649152739406,\n",
       " 37.37756675205283,\n",
       " 41.79671503239336,\n",
       " 41.992365668026366,\n",
       " -62.51953073432899,\n",
       " -43.43593596096259,\n",
       " -3.070638667689019,\n",
       " -44.805499787346974,\n",
       " -47.88388073296637,\n",
       " 73.89483480251975]"
      ]
     },
     "execution_count": 6,
     "metadata": {},
     "output_type": "execute_result"
    }
   ],
   "source": [
    "latitudes"
   ]
  },
  {
   "cell_type": "code",
   "execution_count": 10,
   "id": "4b64d92d",
   "metadata": {},
   "outputs": [
    {
     "data": {
      "text/plain": [
       "69"
      ]
     },
     "execution_count": 10,
     "metadata": {},
     "output_type": "execute_result"
    }
   ],
   "source": [
    "random.randrange(-90, 90, step=3)"
   ]
  },
  {
   "cell_type": "code",
   "execution_count": 11,
   "id": "2eabc778",
   "metadata": {},
   "outputs": [
    {
     "data": {
      "text/plain": [
       "-39.03481997373407"
      ]
     },
     "execution_count": 11,
     "metadata": {},
     "output_type": "execute_result"
    }
   ],
   "source": [
    "random.uniform(-90, 90)"
   ]
  },
  {
   "cell_type": "code",
   "execution_count": 12,
   "id": "edd56ac6",
   "metadata": {},
   "outputs": [],
   "source": [
    "# Import the NumPy module.\n",
    "import numpy as np"
   ]
  },
  {
   "cell_type": "code",
   "execution_count": 13,
   "id": "63733730",
   "metadata": {},
   "outputs": [
    {
     "data": {
      "text/plain": [
       "-24.368164894970192"
      ]
     },
     "execution_count": 13,
     "metadata": {},
     "output_type": "execute_result"
    }
   ],
   "source": [
    "np.random.uniform(-90.000, 90.000)"
   ]
  },
  {
   "cell_type": "code",
   "execution_count": 14,
   "id": "fc8b0b42",
   "metadata": {},
   "outputs": [
    {
     "data": {
      "text/plain": [
       "array([  2.77893567, -20.67940638,  43.61201934,  27.19731199,\n",
       "       -46.78248224,  17.04038397,  89.69270573,  -3.55216313,\n",
       "       -51.29511375, -68.17683558,  54.5370533 , -22.56052062,\n",
       "       -83.0417406 ,  48.0133103 , -48.36151954,  47.20272439,\n",
       "        35.49366203, -34.0005895 ,  66.28550206,  59.37368627,\n",
       "        53.83127005,  23.83650262, -83.71411043,  69.35511764,\n",
       "       -19.22054737, -23.75950161, -22.77275366, -83.7509042 ,\n",
       "       -46.9627845 ,  11.9981874 , -56.16847348, -59.62820479,\n",
       "        72.97157374,  58.56833815, -40.86830097,  78.18705632,\n",
       "       -56.50409219,  71.0149328 ,  -6.02403309,  61.0841645 ,\n",
       "       -10.54687515,  65.27480666, -78.75920111,  81.28434954,\n",
       "        10.7655437 , -60.41682272, -11.25575224, -77.63160663,\n",
       "        22.15823515,  15.76698454])"
      ]
     },
     "execution_count": 14,
     "metadata": {},
     "output_type": "execute_result"
    }
   ],
   "source": [
    "np.random.uniform(-90.000, 90.000, size=50)"
   ]
  },
  {
   "cell_type": "code",
   "execution_count": 15,
   "id": "8a102f9d",
   "metadata": {},
   "outputs": [],
   "source": [
    "#import timeit\n",
    "import timeit"
   ]
  },
  {
   "cell_type": "code",
   "execution_count": 16,
   "id": "6a7e3287",
   "metadata": {},
   "outputs": [
    {
     "name": "stdout",
     "output_type": "stream",
     "text": [
      "15.2 µs ± 409 ns per loop (mean ± std. dev. of 7 runs, 10000 loops each)\n"
     ]
    }
   ],
   "source": [
    "%timeit np.random.uniform(-90.000, 90.000, size=1500)"
   ]
  },
  {
   "cell_type": "code",
   "execution_count": 17,
   "id": "bce48263",
   "metadata": {},
   "outputs": [
    {
     "name": "stdout",
     "output_type": "stream",
     "text": [
      "1.59 ms ± 19.8 µs per loop (mean ± std. dev. of 7 runs, 1000 loops each)\n"
     ]
    }
   ],
   "source": [
    "def latitudes(size):\n",
    "    latitudes = []\n",
    "    x = 0\n",
    "    while x < (size):\n",
    "        random_lat = random.randint(-90, 90) + random.random()\n",
    "        latitudes.append(random_lat)\n",
    "        x += 1\n",
    "    return latitudes\n",
    "# Call the function with 1500.\n",
    "%timeit latitudes(1500)"
   ]
  },
  {
   "cell_type": "code",
   "execution_count": null,
   "id": "397040e5",
   "metadata": {},
   "outputs": [],
   "source": []
  }
 ],
 "metadata": {
  "kernelspec": {
   "display_name": "PythonData",
   "language": "python",
   "name": "pythondata"
  },
  "language_info": {
   "codemirror_mode": {
    "name": "ipython",
    "version": 3
   },
   "file_extension": ".py",
   "mimetype": "text/x-python",
   "name": "python",
   "nbconvert_exporter": "python",
   "pygments_lexer": "ipython3",
   "version": "3.8.8"
  }
 },
 "nbformat": 4,
 "nbformat_minor": 5
}
